{
 "cells": [
  {
   "cell_type": "markdown",
   "metadata": {},
   "source": [
    "Import packages"
   ]
  },
  {
   "cell_type": "code",
   "execution_count": 2,
   "metadata": {},
   "outputs": [
    {
     "data": {
      "text/plain": [
       "(-110.49416326953452, -13.630754857661314)"
      ]
     },
     "execution_count": 2,
     "metadata": {},
     "output_type": "execute_result"
    }
   ],
   "source": [
    "# Re-defining constants after state reset\n",
    "import math\n",
    "\n",
    "# Constants and given values\n",
    "WRTCMP_cen_lon = -90.0  # central longitude in degrees\n",
    "WRTCMP_cen_lat = 2.0   # central latitude in degrees\n",
    "WRTCMP_nx = 380         # number of grid points in x-direction\n",
    "WRTCMP_ny = 290         # number of grid points in y-direction\n",
    "WRTCMP_dx = 12000.0     # grid spacing in x-direction in meters\n",
    "WRTCMP_dy = 12000.0     # grid spacing in y-direction in meters\n",
    "\n",
    "degs_per_meter = 1 / 111319  # conversion factor: degrees per meter\n",
    "\n",
    "cos_phi_ctr = math.cos(math.radians(WRTCMP_cen_lat))  # cosine of central latitude\n",
    "\n",
    "# Calculating lower-left corner longitude\n",
    "WRTCMP_lon_lwr_left = WRTCMP_cen_lon - ((degs_per_meter / (2 * cos_phi_ctr)) * WRTCMP_nx * WRTCMP_dx)\n",
    "\n",
    "# Calculating lower-left corner latitude\n",
    "WRTCMP_lat_lwr_left = WRTCMP_cen_lat - ((degs_per_meter / 2) * WRTCMP_ny * WRTCMP_dy)\n",
    "\n",
    "WRTCMP_lon_lwr_left, WRTCMP_lat_lwr_left\n"
   ]
  }
 ],
 "metadata": {
  "kernelspec": {
   "display_name": "base",
   "language": "python",
   "name": "python3"
  },
  "language_info": {
   "codemirror_mode": {
    "name": "ipython",
    "version": 3
   },
   "file_extension": ".py",
   "mimetype": "text/x-python",
   "name": "python",
   "nbconvert_exporter": "python",
   "pygments_lexer": "ipython3",
   "version": "3.12.3"
  }
 },
 "nbformat": 4,
 "nbformat_minor": 2
}
